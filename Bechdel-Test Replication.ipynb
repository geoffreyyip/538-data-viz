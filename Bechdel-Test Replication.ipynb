{
 "cells": [
  {
   "cell_type": "code",
   "execution_count": 93,
   "metadata": {
    "collapsed": false
   },
   "outputs": [],
   "source": [
    "# Creating a test notebook\n",
    "\n",
    "import numpy as np\n",
    "import pandas as pd\n",
    "import matplotlib.pyplot as plt\n",
    "import seaborn as sb\n",
    "%matplotlib inline"
   ]
  },
  {
   "cell_type": "code",
   "execution_count": 2,
   "metadata": {
    "collapsed": false
   },
   "outputs": [
    {
     "data": {
      "text/html": [
       "<div>\n",
       "<table border=\"1\" class=\"dataframe\">\n",
       "  <thead>\n",
       "    <tr style=\"text-align: right;\">\n",
       "      <th></th>\n",
       "      <th>year</th>\n",
       "      <th>imdb</th>\n",
       "      <th>title</th>\n",
       "      <th>test</th>\n",
       "      <th>clean_test</th>\n",
       "      <th>binary</th>\n",
       "      <th>budget</th>\n",
       "      <th>domgross</th>\n",
       "      <th>intgross</th>\n",
       "      <th>code</th>\n",
       "      <th>budget_2013$</th>\n",
       "      <th>domgross_2013$</th>\n",
       "      <th>intgross_2013$</th>\n",
       "      <th>period code</th>\n",
       "      <th>decade code</th>\n",
       "    </tr>\n",
       "  </thead>\n",
       "  <tbody>\n",
       "    <tr>\n",
       "      <th>0</th>\n",
       "      <td>2013</td>\n",
       "      <td>tt1711425</td>\n",
       "      <td>21 &amp;amp; Over</td>\n",
       "      <td>notalk</td>\n",
       "      <td>1</td>\n",
       "      <td>FAIL</td>\n",
       "      <td>13000000</td>\n",
       "      <td>25682380</td>\n",
       "      <td>42195766</td>\n",
       "      <td>2013FAIL</td>\n",
       "      <td>13000000</td>\n",
       "      <td>25682380</td>\n",
       "      <td>42195766</td>\n",
       "      <td>1</td>\n",
       "      <td>1</td>\n",
       "    </tr>\n",
       "    <tr>\n",
       "      <th>1</th>\n",
       "      <td>2012</td>\n",
       "      <td>tt1343727</td>\n",
       "      <td>Dredd 3D</td>\n",
       "      <td>ok-disagree</td>\n",
       "      <td>3</td>\n",
       "      <td>PASS</td>\n",
       "      <td>45000000</td>\n",
       "      <td>13414714</td>\n",
       "      <td>40868994</td>\n",
       "      <td>2012PASS</td>\n",
       "      <td>45658735</td>\n",
       "      <td>13611086</td>\n",
       "      <td>41467257</td>\n",
       "      <td>1</td>\n",
       "      <td>1</td>\n",
       "    </tr>\n",
       "    <tr>\n",
       "      <th>2</th>\n",
       "      <td>2013</td>\n",
       "      <td>tt2024544</td>\n",
       "      <td>12 Years a Slave</td>\n",
       "      <td>notalk-disagree</td>\n",
       "      <td>1</td>\n",
       "      <td>FAIL</td>\n",
       "      <td>20000000</td>\n",
       "      <td>53107035</td>\n",
       "      <td>158607035</td>\n",
       "      <td>2013FAIL</td>\n",
       "      <td>20000000</td>\n",
       "      <td>53107035</td>\n",
       "      <td>158607035</td>\n",
       "      <td>1</td>\n",
       "      <td>1</td>\n",
       "    </tr>\n",
       "    <tr>\n",
       "      <th>3</th>\n",
       "      <td>2013</td>\n",
       "      <td>tt1272878</td>\n",
       "      <td>2 Guns</td>\n",
       "      <td>notalk</td>\n",
       "      <td>1</td>\n",
       "      <td>FAIL</td>\n",
       "      <td>61000000</td>\n",
       "      <td>75612460</td>\n",
       "      <td>132493015</td>\n",
       "      <td>2013FAIL</td>\n",
       "      <td>61000000</td>\n",
       "      <td>75612460</td>\n",
       "      <td>132493015</td>\n",
       "      <td>1</td>\n",
       "      <td>1</td>\n",
       "    </tr>\n",
       "    <tr>\n",
       "      <th>4</th>\n",
       "      <td>2013</td>\n",
       "      <td>tt0453562</td>\n",
       "      <td>42</td>\n",
       "      <td>men</td>\n",
       "      <td>2</td>\n",
       "      <td>FAIL</td>\n",
       "      <td>40000000</td>\n",
       "      <td>95020213</td>\n",
       "      <td>95020213</td>\n",
       "      <td>2013FAIL</td>\n",
       "      <td>40000000</td>\n",
       "      <td>95020213</td>\n",
       "      <td>95020213</td>\n",
       "      <td>1</td>\n",
       "      <td>1</td>\n",
       "    </tr>\n",
       "  </tbody>\n",
       "</table>\n",
       "</div>"
      ],
      "text/plain": [
       "   year       imdb             title             test  clean_test binary  \\\n",
       "0  2013  tt1711425     21 &amp; Over           notalk           1   FAIL   \n",
       "1  2012  tt1343727          Dredd 3D      ok-disagree           3   PASS   \n",
       "2  2013  tt2024544  12 Years a Slave  notalk-disagree           1   FAIL   \n",
       "3  2013  tt1272878            2 Guns           notalk           1   FAIL   \n",
       "4  2013  tt0453562                42              men           2   FAIL   \n",
       "\n",
       "     budget  domgross   intgross      code  budget_2013$  domgross_2013$  \\\n",
       "0  13000000  25682380   42195766  2013FAIL      13000000        25682380   \n",
       "1  45000000  13414714   40868994  2012PASS      45658735        13611086   \n",
       "2  20000000  53107035  158607035  2013FAIL      20000000        53107035   \n",
       "3  61000000  75612460  132493015  2013FAIL      61000000        75612460   \n",
       "4  40000000  95020213   95020213  2013FAIL      40000000        95020213   \n",
       "\n",
       "   intgross_2013$  period code  decade code  \n",
       "0        42195766            1            1  \n",
       "1        41467257            1            1  \n",
       "2       158607035            1            1  \n",
       "3       132493015            1            1  \n",
       "4        95020213            1            1  "
      ]
     },
     "execution_count": 2,
     "metadata": {},
     "output_type": "execute_result"
    }
   ],
   "source": [
    "# movies.csv taken from FiveThirtyEight's GitHub\n",
    "movies_df = pd.read_csv('movies.csv')\n",
    "\n",
    "def convert(x):\n",
    "    if x == 'nowomen':\n",
    "        return 0\n",
    "    if x == 'notalk':\n",
    "        return 1\n",
    "    if x == 'men':\n",
    "        return 2\n",
    "    if x == 'dubious' or 'men':\n",
    "        return 3\n",
    "\n",
    "movies_df['clean_test'] = movies_df['clean_test'].apply(convert)\n",
    "\n",
    "movies_df.head()"
   ]
  },
  {
   "cell_type": "code",
   "execution_count": null,
   "metadata": {
    "collapsed": false
   },
   "outputs": [],
   "source": [
    "\n",
    "# NOTE TO SELF: THERE'S GOTTA BE A BETTER WAY OF WRITING THIS.\n",
    "def group(x):\n",
    "    if x in range(1970, 1975):\n",
    "        return 1\n",
    "    elif x in range(1975, 1980):\n",
    "        return 2\n",
    "    elif x in range(1980, 1985):\n",
    "        return 3\n",
    "    elif x in range(1985, 1990):\n",
    "        return 4\n",
    "    elif x in range(1990, 1995):\n",
    "        return 5\n",
    "    elif x in range(1995, 2000):\n",
    "        return 6\n",
    "    elif x in range(2000, 2005):\n",
    "        return 7\n",
    "    elif x in range(2005, 2010):\n",
    "        return 8\n",
    "    elif x in range(2010, 2015):\n",
    "        return 9\n",
    "\n",
    "movies_df['bucket'] = movies_df['year'].apply(group)\n",
    "movies_df[['year', 'bucket']]"
   ]
  },
  {
   "cell_type": "code",
   "execution_count": 27,
   "metadata": {
    "collapsed": false
   },
   "outputs": [
    {
     "data": {
      "text/html": [
       "<div>\n",
       "<table border=\"1\" class=\"dataframe\">\n",
       "  <thead>\n",
       "    <tr style=\"text-align: right;\">\n",
       "      <th>clean_test</th>\n",
       "      <th>0</th>\n",
       "      <th>1</th>\n",
       "      <th>2</th>\n",
       "      <th>3</th>\n",
       "    </tr>\n",
       "    <tr>\n",
       "      <th>bucket</th>\n",
       "      <th></th>\n",
       "      <th></th>\n",
       "      <th></th>\n",
       "      <th></th>\n",
       "    </tr>\n",
       "  </thead>\n",
       "  <tbody>\n",
       "    <tr>\n",
       "      <th>1</th>\n",
       "      <td>0</td>\n",
       "      <td>13</td>\n",
       "      <td>3</td>\n",
       "      <td>5</td>\n",
       "    </tr>\n",
       "    <tr>\n",
       "      <th>2</th>\n",
       "      <td>4</td>\n",
       "      <td>14</td>\n",
       "      <td>4</td>\n",
       "      <td>11</td>\n",
       "    </tr>\n",
       "    <tr>\n",
       "      <th>3</th>\n",
       "      <td>10</td>\n",
       "      <td>16</td>\n",
       "      <td>10</td>\n",
       "      <td>22</td>\n",
       "    </tr>\n",
       "    <tr>\n",
       "      <th>4</th>\n",
       "      <td>7</td>\n",
       "      <td>21</td>\n",
       "      <td>9</td>\n",
       "      <td>30</td>\n",
       "    </tr>\n",
       "    <tr>\n",
       "      <th>5</th>\n",
       "      <td>13</td>\n",
       "      <td>26</td>\n",
       "      <td>13</td>\n",
       "      <td>38</td>\n",
       "    </tr>\n",
       "    <tr>\n",
       "      <th>6</th>\n",
       "      <td>11</td>\n",
       "      <td>79</td>\n",
       "      <td>24</td>\n",
       "      <td>133</td>\n",
       "    </tr>\n",
       "    <tr>\n",
       "      <th>7</th>\n",
       "      <td>29</td>\n",
       "      <td>90</td>\n",
       "      <td>36</td>\n",
       "      <td>197</td>\n",
       "    </tr>\n",
       "    <tr>\n",
       "      <th>8</th>\n",
       "      <td>35</td>\n",
       "      <td>134</td>\n",
       "      <td>50</td>\n",
       "      <td>269</td>\n",
       "    </tr>\n",
       "    <tr>\n",
       "      <th>9</th>\n",
       "      <td>32</td>\n",
       "      <td>121</td>\n",
       "      <td>45</td>\n",
       "      <td>240</td>\n",
       "    </tr>\n",
       "  </tbody>\n",
       "</table>\n",
       "</div>"
      ],
      "text/plain": [
       "clean_test   0    1   2    3\n",
       "bucket                      \n",
       "1            0   13   3    5\n",
       "2            4   14   4   11\n",
       "3           10   16  10   22\n",
       "4            7   21   9   30\n",
       "5           13   26  13   38\n",
       "6           11   79  24  133\n",
       "7           29   90  36  197\n",
       "8           35  134  50  269\n",
       "9           32  121  45  240"
      ]
     },
     "execution_count": 27,
     "metadata": {},
     "output_type": "execute_result"
    }
   ],
   "source": [
    "# Note, crosstab is not an attribute. It is a function. It must be called.\n",
    "movies_xt = pd.crosstab(movies_df['bucket'], movies_df['clean_test'])\n",
    "movies_xt"
   ]
  },
  {
   "cell_type": "code",
   "execution_count": 59,
   "metadata": {
    "collapsed": false
   },
   "outputs": [
    {
     "data": {
      "text/html": [
       "<div>\n",
       "<table border=\"1\" class=\"dataframe\">\n",
       "  <thead>\n",
       "    <tr style=\"text-align: right;\">\n",
       "      <th>clean_test</th>\n",
       "      <th>0</th>\n",
       "      <th>1</th>\n",
       "      <th>2</th>\n",
       "      <th>3</th>\n",
       "    </tr>\n",
       "    <tr>\n",
       "      <th>bucket</th>\n",
       "      <th></th>\n",
       "      <th></th>\n",
       "      <th></th>\n",
       "      <th></th>\n",
       "    </tr>\n",
       "  </thead>\n",
       "  <tbody>\n",
       "    <tr>\n",
       "      <th>1</th>\n",
       "      <td>0.000000</td>\n",
       "      <td>0.619048</td>\n",
       "      <td>0.142857</td>\n",
       "      <td>0.238095</td>\n",
       "    </tr>\n",
       "    <tr>\n",
       "      <th>2</th>\n",
       "      <td>0.121212</td>\n",
       "      <td>0.424242</td>\n",
       "      <td>0.121212</td>\n",
       "      <td>0.333333</td>\n",
       "    </tr>\n",
       "    <tr>\n",
       "      <th>3</th>\n",
       "      <td>0.172414</td>\n",
       "      <td>0.275862</td>\n",
       "      <td>0.172414</td>\n",
       "      <td>0.379310</td>\n",
       "    </tr>\n",
       "    <tr>\n",
       "      <th>4</th>\n",
       "      <td>0.104478</td>\n",
       "      <td>0.313433</td>\n",
       "      <td>0.134328</td>\n",
       "      <td>0.447761</td>\n",
       "    </tr>\n",
       "    <tr>\n",
       "      <th>5</th>\n",
       "      <td>0.144444</td>\n",
       "      <td>0.288889</td>\n",
       "      <td>0.144444</td>\n",
       "      <td>0.422222</td>\n",
       "    </tr>\n",
       "    <tr>\n",
       "      <th>6</th>\n",
       "      <td>0.044534</td>\n",
       "      <td>0.319838</td>\n",
       "      <td>0.097166</td>\n",
       "      <td>0.538462</td>\n",
       "    </tr>\n",
       "    <tr>\n",
       "      <th>7</th>\n",
       "      <td>0.082386</td>\n",
       "      <td>0.255682</td>\n",
       "      <td>0.102273</td>\n",
       "      <td>0.559659</td>\n",
       "    </tr>\n",
       "    <tr>\n",
       "      <th>8</th>\n",
       "      <td>0.071721</td>\n",
       "      <td>0.274590</td>\n",
       "      <td>0.102459</td>\n",
       "      <td>0.551230</td>\n",
       "    </tr>\n",
       "    <tr>\n",
       "      <th>9</th>\n",
       "      <td>0.073059</td>\n",
       "      <td>0.276256</td>\n",
       "      <td>0.102740</td>\n",
       "      <td>0.547945</td>\n",
       "    </tr>\n",
       "  </tbody>\n",
       "</table>\n",
       "</div>"
      ],
      "text/plain": [
       "clean_test         0         1         2         3\n",
       "bucket                                            \n",
       "1           0.000000  0.619048  0.142857  0.238095\n",
       "2           0.121212  0.424242  0.121212  0.333333\n",
       "3           0.172414  0.275862  0.172414  0.379310\n",
       "4           0.104478  0.313433  0.134328  0.447761\n",
       "5           0.144444  0.288889  0.144444  0.422222\n",
       "6           0.044534  0.319838  0.097166  0.538462\n",
       "7           0.082386  0.255682  0.102273  0.559659\n",
       "8           0.071721  0.274590  0.102459  0.551230\n",
       "9           0.073059  0.276256  0.102740  0.547945"
      ]
     },
     "execution_count": 59,
     "metadata": {},
     "output_type": "execute_result"
    }
   ],
   "source": [
    "movies_xt_pct = movies_xt.div(movies_xt.sum(axis=1), axis=0)\n",
    "movies_xt_pct"
   ]
  },
  {
   "cell_type": "code",
   "execution_count": 94,
   "metadata": {
    "collapsed": false
   },
   "outputs": [
    {
     "data": {
      "text/plain": [
       "<matplotlib.axes._subplots.AxesSubplot at 0xc4a5d68>"
      ]
     },
     "execution_count": 94,
     "metadata": {},
     "output_type": "execute_result"
    },
    {
     "data": {
      "image/png": "[encoded data removed]",
      "text/plain": [
       "<matplotlib.figure.Figure at 0xc49f5c0>"
      ]
     },
     "metadata": {},
     "output_type": "display_data"
    }
   ],
   "source": [
    "# NOTE TO SELF: NEED TO INVERT THE STACK ORDER\n",
    "# GOOD SCORES SHOULD BE ON THE BOTTOM\n",
    "movies_xt_pct.plot(kind='bar', stacked=True)"
   ]
  },
  {
   "cell_type": "code",
   "execution_count": 63,
   "metadata": {
    "collapsed": true
   },
   "outputs": [
    {
     "data": {
      "text/plain": [
       "array([[[ 0.94117647,  0.94117647,  0.94117647],\n",
       "        [ 0.94117647,  0.94117647,  0.94117647],\n",
       "        [ 0.94117647,  0.94117647,  0.94117647],\n",
       "        ..., \n",
       "        [ 0.94117647,  0.94117647,  0.94117647],\n",
       "        [ 0.94117647,  0.94117647,  0.94117647],\n",
       "        [ 0.94117647,  0.94117647,  0.94117647]],\n",
       "\n",
       "       [[ 0.94117647,  0.94117647,  0.94117647],\n",
       "        [ 0.94117647,  0.94117647,  0.94117647],\n",
       "        [ 0.94117647,  0.94117647,  0.94117647],\n",
       "        ..., \n",
       "        [ 0.94117647,  0.94117647,  0.94117647],\n",
       "        [ 0.94117647,  0.94117647,  0.94117647],\n",
       "        [ 0.94117647,  0.94117647,  0.94117647]],\n",
       "\n",
       "       [[ 0.94117647,  0.94117647,  0.94117647],\n",
       "        [ 0.94117647,  0.94117647,  0.94117647],\n",
       "        [ 0.94117647,  0.94117647,  0.94117647],\n",
       "        ..., \n",
       "        [ 0.94117647,  0.94117647,  0.94117647],\n",
       "        [ 0.94117647,  0.94117647,  0.94117647],\n",
       "        [ 0.94117647,  0.94117647,  0.94117647]],\n",
       "\n",
       "       ..., \n",
       "       [[ 0.35686275,  0.36862746,  0.37254903],\n",
       "        [ 0.35686275,  0.36862746,  0.37254903],\n",
       "        [ 0.35686275,  0.36862746,  0.37254903],\n",
       "        ..., \n",
       "        [ 0.35686275,  0.36862746,  0.37254903],\n",
       "        [ 0.35686275,  0.36862746,  0.37254903],\n",
       "        [ 0.35686275,  0.36862746,  0.37254903]],\n",
       "\n",
       "       [[ 0.35686275,  0.36862746,  0.37254903],\n",
       "        [ 0.35686275,  0.36862746,  0.37254903],\n",
       "        [ 0.35686275,  0.36862746,  0.37254903],\n",
       "        ..., \n",
       "        [ 0.35686275,  0.36862746,  0.37254903],\n",
       "        [ 0.35686275,  0.36862746,  0.37254903],\n",
       "        [ 0.35686275,  0.36862746,  0.37254903]],\n",
       "\n",
       "       [[ 0.35686275,  0.36862746,  0.37254903],\n",
       "        [ 0.35686275,  0.36862746,  0.37254903],\n",
       "        [ 0.35686275,  0.36862746,  0.37254903],\n",
       "        ..., \n",
       "        [ 0.35686275,  0.36862746,  0.37254903],\n",
       "        [ 0.35686275,  0.36862746,  0.37254903],\n",
       "        [ 0.35686275,  0.36862746,  0.37254903]]], dtype=float32)"
      ]
     },
     "execution_count": 63,
     "metadata": {},
     "output_type": "execute_result"
    }
   ],
   "source": [
    "\n",
    "import matplotlib.image as mpimg\n",
    "\n",
    "img = mpimg.imread('beta.png')\n",
    "img"
   ]
  },
  {
   "cell_type": "code",
   "execution_count": 64,
   "metadata": {
    "collapsed": false
   },
   "outputs": [
    {
     "data": {
      "text/plain": [
       "<matplotlib.image.AxesImage at 0x9a2e518>"
      ]
     },
     "execution_count": 64,
     "metadata": {},
     "output_type": "execute_result"
    },
    {
     "data": {
      "image/png": "[encoded data removed]",
      "text/plain": [
       "<matplotlib.figure.Figure at 0x99c26d8>"
      ]
     },
     "metadata": {},
     "output_type": "display_data"
    }
   ],
   "source": [
    "imgplot = plt.imshow(img)\n",
    "imgplot"
   ]
  },
  {
   "cell_type": "code",
   "execution_count": 86,
   "metadata": {
    "collapsed": false
   },
   "outputs": [
    {
     "data": {
      "text/plain": [
       "test\n",
       "dubious             31617675.5\n",
       "dubious-disagree    46364637.0\n",
       "men                 38160582.5\n",
       "men-disagree        45383537.5\n",
       "notalk              53102348.0\n",
       "notalk-disagree     67412609.0\n",
       "nowomen             40311473.0\n",
       "nowomen-disagree    54286580.0\n",
       "ok                  29703299.0\n",
       "ok-disagree         58312784.5\n",
       "Name: budget_2013$, dtype: float64"
      ]
     },
     "execution_count": 86,
     "metadata": {},
     "output_type": "execute_result"
    }
   ],
   "source": [
    "# TODO: Calculate average gross budget for each rating\n",
    "# TODO: Create a sideways histogram. Or bar chart.\n",
    "# TODO: No y-axis, just the titles of each rating to the right side of each bar\n",
    "\n",
    "# Data needed: 'budget_2013$', 'clean_test'\n",
    "# Filters need: films since 1990\n",
    "\n",
    "beta = movies_df[movies_df['year'] >= 1990]\n",
    "beta = beta.groupby('test').median()\n",
    "beta_plot = beta['budget_2013$']\n",
    "beta_plot"
   ]
  },
  {
   "cell_type": "code",
   "execution_count": 95,
   "metadata": {
    "collapsed": false
   },
   "outputs": [
    {
     "data": {
      "text/plain": [
       "test\n",
       "dubious             31617675.5\n",
       "dubious-disagree    46364637.0\n",
       "men                 38160582.5\n",
       "men-disagree        45383537.5\n",
       "notalk              53102348.0\n",
       "notalk-disagree     67412609.0\n",
       "nowomen             40311473.0\n",
       "nowomen-disagree    54286580.0\n",
       "ok                  29703299.0\n",
       "ok-disagree         58312784.5\n",
       "Name: budget_2013$, dtype: float64"
      ]
     },
     "execution_count": 95,
     "metadata": {},
     "output_type": "execute_result"
    },
    {
     "data": {
      "image/png": "[encoded data removed]",
      "text/plain": [
       "<matplotlib.figure.Figure at 0xb0339e8>"
      ]
     },
     "metadata": {},
     "output_type": "display_data"
    }
   ],
   "source": [
    "beta_plot.plot(kind='barh', legend=True)\n",
    "plt.xlabel('Budget in Millions') # Need to divide by 1,000,000 to do this\n",
    "plt.title('Median Budget for Films Since 1990', fontsize=18)\n",
    "# TODO: Remove x-axis and y-axis. Replace with number values at tips of bars\n",
    "beta_plot\n"
   ]
  },
  {
   "cell_type": "code",
   "execution_count": 92,
   "metadata": {
    "collapsed": false
   },
   "outputs": [
    {
     "data": {
      "text/plain": [
       "<matplotlib.image.AxesImage at 0xb164a58>"
      ]
     },
     "execution_count": 92,
     "metadata": {},
     "output_type": "execute_result"
    },
    {
     "data": {
      "image/png": "[encoded data removed]",
      "text/plain": [
       "<matplotlib.figure.Figure at 0xb0a8fd0>"
      ]
     },
     "metadata": {},
     "output_type": "display_data"
    }
   ],
   "source": [
    "\n",
    "img = mpimg.imread('gamma.png')\n",
    "plt.imshow(img)"
   ]
  },
  {
   "cell_type": "code",
   "execution_count": 158,
   "metadata": {
    "collapsed": false
   },
   "outputs": [
    {
     "name": "stdout",
     "output_type": "stream",
     "text": [
      "clean_test\n",
      "0    0.996369\n",
      "1    1.222995\n",
      "2    1.305368\n",
      "3    1.370452\n",
      "Name: ROI, dtype: float64\n"
     ]
    },
    {
     "data": {
      "text/plain": [
       "clean_test\n",
       "0    1.113233\n",
       "1    1.201792\n",
       "2    1.238017\n",
       "3    1.313735\n",
       "dtype: float64"
      ]
     },
     "execution_count": 158,
     "metadata": {},
     "output_type": "execute_result"
    },
    {
     "data": {
      "image/png": "[encoded data removed]",
      "text/plain": [
       "<matplotlib.figure.Figure at 0xb7366a0>"
      ]
     },
     "metadata": {},
     "output_type": "display_data"
    }
   ],
   "source": [
    "# TODO: Calculate dollar earned per dollar spent.\n",
    "# TODO: Split by Bechdel score.\n",
    "# TODO: Make a bar chart for both US/ Canada, and International\n",
    "\n",
    "# Looks like I'll have to use two subplots\n",
    "# A Figure title, and then titles for the two subplots\n",
    "# Beyond that, the graphing is easy.\n",
    "# Data Needed: 'domgross_2013$', 'intgross_2013$', 'clean_test'\n",
    "\n",
    "fig = plt.figure()\n",
    "ax1 = fig.add_subplot(1, 2, 1)\n",
    "movies_df['ROI'] = movies_df['domgross']/ movies_df['budget']\n",
    "gamma1 = movies_df[movies_df['year'] >= 1990].groupby('clean_test').median()\n",
    "gamma1['ROI'].plot(kind='barh')\n",
    "print(gamma1['ROI'])\n",
    "\n",
    "ax2 = fig.add_subplot(1, 2, 2)\n",
    "movies_df['x_ROI'] = movies_df['intgross']/ movies_df['budget']\n",
    "gamma2 = movies_df[movies_df['year'] >= 1990].groupby('clean_test').median()\n",
    "gamma2['x_ROI'].plot(kind='barh')\n",
    "gamma2['x_ROI'].subtract(gamma1['ROI'])"
   ]
  },
  {
   "cell_type": "code",
   "execution_count": 140,
   "metadata": {
    "collapsed": false
   },
   "outputs": [
    {
     "name": "stderr",
     "output_type": "stream",
     "text": [
      "C:\\Users\\Play\\Anaconda3\\lib\\site-packages\\pandas\\core\\indexing.py:415: SettingWithCopyWarning: \n",
      "A value is trying to be set on a copy of a slice from a DataFrame.\n",
      "Try using .loc[row_indexer,col_indexer] = value instead\n",
      "\n",
      "See the the caveats in the documentation: http://pandas.pydata.org/pandas-docs/stable/indexing.html#indexing-view-versus-copy\n",
      "  self.obj[item] = s\n"
     ]
    }
   ],
   "source": [
    "gamma1.insert()"
   ]
  }
 ],
 "metadata": {
  "kernelspec": {
   "display_name": "Python 3",
   "language": "python",
   "name": "python3"
  },
  "language_info": {
   "codemirror_mode": {
    "name": "ipython",
    "version": 3
   },
   "file_extension": ".py",
   "mimetype": "text/x-python",
   "name": "python",
   "nbconvert_exporter": "python",
   "pygments_lexer": "ipython3",
   "version": "3.4.3"
  }
 },
 "nbformat": 4,
 "nbformat_minor": 0
}
